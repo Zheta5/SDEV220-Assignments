{
 "cells": [
  {
   "cell_type": "code",
   "execution_count": 1,
   "id": "3335415f-fe95-4e19-9944-d12261e3e7fc",
   "metadata": {},
   "outputs": [],
   "source": [
    "class Solution:\n",
    "    def sort012(self,arr,n):\n",
    "        # code here\n",
    "        low = 0 \n",
    "        high = n-1\n",
    "        mid = 0\n",
    "        \n",
    "        while mid<=high:\n",
    "            if arr[mid]==0:\n",
    "                arr[mid], arr[low] = arr[low], arr[mid]\n",
    "                mid+=1\n",
    "                low+=1\n",
    "            elif arr[mid] ==1:\n",
    "                mid+=1\n",
    "            else:\n",
    "                arr[mid], arr[high] == arr[high], arr[mid]\n",
    "                high-=1"
   ]
  }
 ],
 "metadata": {
  "kernelspec": {
   "display_name": "Python 3 (ipykernel)",
   "language": "python",
   "name": "python3"
  },
  "language_info": {
   "codemirror_mode": {
    "name": "ipython",
    "version": 3
   },
   "file_extension": ".py",
   "mimetype": "text/x-python",
   "name": "python",
   "nbconvert_exporter": "python",
   "pygments_lexer": "ipython3",
   "version": "3.11.7"
  }
 },
 "nbformat": 4,
 "nbformat_minor": 5
}
