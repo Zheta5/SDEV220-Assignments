{
 "cells": [
  {
   "cell_type": "markdown",
   "id": "b6c72583-4c66-4d63-91ef-9dd25785ce07",
   "metadata": {},
   "source": [
    "below is 11.1 and 11.2"
   ]
  },
  {
   "cell_type": "code",
   "execution_count": 5,
   "id": "102c937e-c76a-4f4d-9116-d7f01bd59fed",
   "metadata": {},
   "outputs": [
    {
     "name": "stdout",
     "output_type": "stream",
     "text": [
      "Open 9-5 daily\n"
     ]
    }
   ],
   "source": [
    "import zoo\n",
    "\n",
    "zoo.hours()"
   ]
  },
  {
   "cell_type": "code",
   "execution_count": 7,
   "id": "a2cd47b3-7363-4693-b92f-a449a666eb67",
   "metadata": {},
   "outputs": [
    {
     "name": "stdout",
     "output_type": "stream",
     "text": [
      "Open 9-5 daily\n"
     ]
    }
   ],
   "source": [
    "import zoo as menagerie\n",
    "\n",
    "menagerie.hours()"
   ]
  },
  {
   "cell_type": "markdown",
   "id": "9b84d1ac-40bf-4956-8f18-7a6a1c250655",
   "metadata": {},
   "source": [
    "Below is 16.1-16.7"
   ]
  },
  {
   "cell_type": "code",
   "execution_count": null,
   "id": "901f9e9d-f822-4731-b56b-c33dc4df93c2",
   "metadata": {},
   "outputs": [],
   "source": [
    "books = [\n",
    "    ['author', 'book'],\n",
    "    ['J R R Tolkien', 'The Hobbit'],\n",
    "    ['Lyne Truss', 'Eats,Shoots & Leaves'],\n",
    "]\n",
    "\n",
    "with open('books.csv', 'w', newline='') as csvfile:\n",
    "    csvout=csv.writer(csvfile, quoting = csv.QUOTE_MINIMAL)\n",
    "    csvout.writerows(books)\n",
    "\n",
    "with open('books.csv', 'r') as fin:\n",
    "    cin = csv.DictReader(fin)\n",
    "    books = [row for row in cin]\n",
    "\n",
    "print(books)\n",
    "\n",
    "books_Two = [\n",
    "    ['Title', 'author','year'],\n",
    "    ['The Weirdstone of Brisingamen', 'Alan Garner', '1960'],\n",
    "    ['Perdido Street Station', 'China Mieville', '2000'],\n",
    "    ['Thud!', 'Terry Pratchet', '2005'],\n",
    "    ['The Spellman Files', 'Lisa Lutz', '2007'],\n",
    "    ['Small Gods', 'Terry Pratchet', '1992'],\n",
    "]\n",
    "\n",
    "with open('books_Two.csv', 'w', newline='') as csvfile:\n",
    "    csvout=csv.writer(csvfile, quoting = csv.QUOTE_MINIMAL)\n",
    "    csvout.writerows(books_Two)\n",
    "\n",
    "with open('books_Two.csv', 'r') as fin:\n",
    "    cin = csv.DictReader(fin)\n",
    "    books_Two = [row for row in cin]\n",
    "\n",
    "print(books_Two)\n",
    "\n",
    "#connect to the database\n",
    "conn = sqlite3.connect('books.db')\n",
    "curs= conn.cursor()\n",
    "\n",
    "#create a table\n",
    "curs.execute(\"CREATE TABLE books (Title TEXT, author TEXT, year INTEGER)\")\n",
    "\n",
    "#insert data into the table\n",
    "for book in books_Two:\n",
    "    curs.execute(\"INSERT INTO books (Title, author, year) VALUES (?, ?, ?)\", (book['Title'], book['author'], int(book['year'])))\n",
    "\n",
    "conn.commit()\n",
    "conn.close()\n",
    "\n",
    "#conect to the database\n",
    "conn = sqlite3.connect('books.db')\n",
    "curs= conn.cursor()\n",
    "\n",
    "#sort books in ascending year order\n",
    "curs.execute(\"SELECT Title,author, year FROM books ORDER BY year ASC\")\n",
    "\n",
    "books = curs.fetchall()\n",
    "\n",
    "#print sorted books by ascending year\n",
    "for book in books:\n",
    "    print(f\"Title: {book[0]}, Author: {book[1]}, Year: {book[2]}\")\n",
    "\n",
    "conn.close()\n",
    "\n"
   ]
  },
  {
   "cell_type": "markdown",
   "id": "b822da8f-6e43-46c8-a638-b30f637d1641",
   "metadata": {},
   "source": [
    "below is 16.8"
   ]
  },
  {
   "cell_type": "code",
   "execution_count": null,
   "id": "c05aebcb-2eaf-49be-99cf-97caa8949422",
   "metadata": {},
   "outputs": [],
   "source": [
    "from sqlalchemy import create_engine, MetaData, Table\n",
    "\n",
    "\n",
    "db_url = 'sqlite:///books.db'\n",
    "\n",
    "\n",
    "engine = create_engine(db_url)\n",
    "\n",
    "\n",
    "metadata = MetaData()\n",
    "books_table = Table('books', metadata, autoload_with=engine)\n",
    "\n",
    "\n",
    "with engine.connect() as connection:\n",
    "    stmt = books_table.select().order_by(books_table.c.Title.asc())\n",
    "    results = connection.execute(stmt)\n",
    "\n",
    "    \n",
    "    for row in results:\n",
    "        print(f\"Title: {row['Title']}\")\n"
   ]
  }
 ],
 "metadata": {
  "kernelspec": {
   "display_name": "Python 3 (ipykernel)",
   "language": "python",
   "name": "python3"
  },
  "language_info": {
   "codemirror_mode": {
    "name": "ipython",
    "version": 3
   },
   "file_extension": ".py",
   "mimetype": "text/x-python",
   "name": "python",
   "nbconvert_exporter": "python",
   "pygments_lexer": "ipython3",
   "version": "3.11.7"
  }
 },
 "nbformat": 4,
 "nbformat_minor": 5
}
