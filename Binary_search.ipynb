{
 "cells": [
  {
   "cell_type": "code",
   "execution_count": null,
   "id": "43d0e8d1-a1b9-4daa-ba80-6dd5384a1f38",
   "metadata": {},
   "outputs": [],
   "source": [
    "class Solution:\t\n",
    "\tdef binarysearch(self, arr, n, k):\n",
    "\t\t# code here\n",
    "        left = 0 \n",
    "        right = n - 1\n",
    "        \n",
    "        while left <= right:\n",
    "            mid = left + (right - left)//2\n",
    "            \n",
    "            if arr[mid] == k:\n",
    "                return mid\n",
    "                \n",
    "            elif arr[mid] < k:\n",
    "                left = mid + 1\n",
    "            \n",
    "            else:\n",
    "                right = mid - 1\n",
    "                \n",
    "        return - 1"
   ]
  }
 ],
 "metadata": {
  "kernelspec": {
   "display_name": "Python 3 (ipykernel)",
   "language": "python",
   "name": "python3"
  },
  "language_info": {
   "codemirror_mode": {
    "name": "ipython",
    "version": 3
   },
   "file_extension": ".py",
   "mimetype": "text/x-python",
   "name": "python",
   "nbconvert_exporter": "python",
   "pygments_lexer": "ipython3",
   "version": "3.11.7"
  }
 },
 "nbformat": 4,
 "nbformat_minor": 5
}
