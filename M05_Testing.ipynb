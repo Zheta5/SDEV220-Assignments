{
 "cells": [
  {
   "cell_type": "markdown",
   "id": "16f554f9-f5cc-42a2-ae76-f21bc2112812",
   "metadata": {},
   "source": [
    "__init__.py code is below"
   ]
  },
  {
   "cell_type": "code",
   "execution_count": null,
   "id": "5ad5e5db-045f-4e87-b65c-e1bfe0937a0b",
   "metadata": {},
   "outputs": [],
   "source": [
    "def sum(arg1):\n",
    "    total = 0 \n",
    "    for val in arg1:\n",
    "        total += val\n",
    "    return total"
   ]
  },
  {
   "cell_type": "markdown",
   "id": "78f11003-1ddd-4291-8c45-fb2198068d83",
   "metadata": {},
   "source": [
    "test.py is below "
   ]
  },
  {
   "cell_type": "code",
   "execution_count": null,
   "id": "c4886834-49d9-4334-bebd-386956d8636e",
   "metadata": {},
   "outputs": [],
   "source": [
    "import unittest\n",
    "from fractions import Fraction\n",
    "\n",
    "from my_sum import sum \n",
    "\n",
    "class TestSum(unittest.TestCase):\n",
    "    def test_list_int(self):\n",
    "\n",
    "        data = [1,2,3]\n",
    "        result = sum(data)\n",
    "        self.assertEqual(result, 6)\n",
    "\n",
    "\n",
    "    def test_list_fraction(self):\n",
    "\n",
    "        data = [Fraction(1,4), Fraction(1,4), Fraction(2,5)]\n",
    "        result = sum(data)\n",
    "        self.assertEqual(result,1)\n",
    "\n",
    "if __name__ == '__main__':\n",
    "    unittest.main()"
   ]
  },
  {
   "cell_type": "markdown",
   "id": "40ba4b3d-8365-4c53-8a08-d0030c8609dc",
   "metadata": {},
   "source": [
    "The test results show that test_List_int function passed and that the test_list_fraction did not. The test system is similarly to doing it on paper\n",
    "or calculator, with the user inputting the answer to check that the code is working properly. The test reuslt in the fraction functions means that the code did not output the result \"1\" which caused the test to fai. In the int function the code did out put the result \"6\" which caused it to pass."
   ]
  }
 ],
 "metadata": {
  "kernelspec": {
   "display_name": "Python 3 (ipykernel)",
   "language": "python",
   "name": "python3"
  },
  "language_info": {
   "codemirror_mode": {
    "name": "ipython",
    "version": 3
   },
   "file_extension": ".py",
   "mimetype": "text/x-python",
   "name": "python",
   "nbconvert_exporter": "python",
   "pygments_lexer": "ipython3",
   "version": "3.11.7"
  }
 },
 "nbformat": 4,
 "nbformat_minor": 5
}
