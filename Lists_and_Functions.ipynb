{
 "cells": [
  {
   "cell_type": "markdown",
   "id": "aee727c9-3dd3-4491-93c1-f00fca8d61b8",
   "metadata": {},
   "source": [
    "Below is code for 7.4-7.7"
   ]
  },
  {
   "cell_type": "code",
   "execution_count": 1,
   "id": "93735f82-ea5d-4d40-9654-1d8e15b60f6e",
   "metadata": {},
   "outputs": [
    {
     "name": "stdout",
     "output_type": "stream",
     "text": [
      "['mozzarella', 'Cinderalla', 'salmonella']\n"
     ]
    }
   ],
   "source": [
    "things = ['mozzarella','cinderalla','salmonella']\n",
    "things[1]=things[1].capitalize()\n",
    "print(things)\n"
   ]
  },
  {
   "cell_type": "markdown",
   "id": "8fbb4691-edf6-4a2e-b9c7-cfcf1adf4e66",
   "metadata": {},
   "source": [
    "Yes it did change the element in the lsit"
   ]
  },
  {
   "cell_type": "code",
   "execution_count": 3,
   "id": "03364c51-84e0-4a92-a71e-cc933aa5e866",
   "metadata": {
    "scrolled": true
   },
   "outputs": [
    {
     "name": "stdout",
     "output_type": "stream",
     "text": [
      "['MOZZARELLA', 'Cinderalla', 'salmonella']\n"
     ]
    }
   ],
   "source": [
    "things[0]=things[0].upper()\n",
    "print(things)"
   ]
  },
  {
   "cell_type": "code",
   "execution_count": 5,
   "id": "3621b3af-69e1-4afe-9c50-e8ee540b5e13",
   "metadata": {},
   "outputs": [
    {
     "name": "stdout",
     "output_type": "stream",
     "text": [
      "['MOZZARELLA', 'Cinderalla']\n"
     ]
    }
   ],
   "source": [
    "things.remove('salmonella')\n",
    "print(things)"
   ]
  },
  {
   "cell_type": "markdown",
   "id": "60713d01-1fac-464d-b97d-28355d545444",
   "metadata": {},
   "source": [
    "Below is code for 9.1 and 9.2"
   ]
  },
  {
   "cell_type": "code",
   "execution_count": null,
   "id": "f9e3cff5-cc82-4703-bc1f-5cf7e6813ba0",
   "metadata": {},
   "outputs": [],
   "source": [
    "def good():\n",
    "    return ['Harry','Ron','Hermione']"
   ]
  },
  {
   "cell_type": "code",
   "execution_count": 18,
   "id": "3ddb3222-3517-4a28-9b6d-83ba21bab3ca",
   "metadata": {},
   "outputs": [
    {
     "name": "stdout",
     "output_type": "stream",
     "text": [
      "5\n"
     ]
    }
   ],
   "source": [
    "def get_odds():\n",
    "    for number in range(10):\n",
    "        if number % 2 != 0:\n",
    "            yield number\n",
    "\n",
    "count = 0\n",
    "for odd in get_odds():\n",
    "    count += 1\n",
    "    if count == 3:\n",
    "        print(odd)\n",
    "        break\n",
    "    "
   ]
  }
 ],
 "metadata": {
  "kernelspec": {
   "display_name": "Python 3 (ipykernel)",
   "language": "python",
   "name": "python3"
  },
  "language_info": {
   "codemirror_mode": {
    "name": "ipython",
    "version": 3
   },
   "file_extension": ".py",
   "mimetype": "text/x-python",
   "name": "python",
   "nbconvert_exporter": "python",
   "pygments_lexer": "ipython3",
   "version": "3.11.7"
  }
 },
 "nbformat": 4,
 "nbformat_minor": 5
}
