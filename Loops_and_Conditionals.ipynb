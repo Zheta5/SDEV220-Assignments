{
 "cells": [
  {
   "cell_type": "markdown",
   "id": "7cedd288-3778-46c3-be11-e4ffcc15003c",
   "metadata": {},
   "source": [
    "The code below is for 4.1 and 4.2"
   ]
  },
  {
   "cell_type": "code",
   "execution_count": 4,
   "id": "c67b991c-2b81-42ee-812b-6ce16260077c",
   "metadata": {},
   "outputs": [],
   "source": [
    "secret =4"
   ]
  },
  {
   "cell_type": "code",
   "execution_count": 6,
   "id": "078ba7d1-3653-4925-83a5-deef3aa41585",
   "metadata": {},
   "outputs": [],
   "source": [
    "guess = 7"
   ]
  },
  {
   "cell_type": "code",
   "execution_count": 8,
   "id": "3e28a35b-5d4c-458b-9720-d5a35d1a51a4",
   "metadata": {
    "scrolled": true
   },
   "outputs": [
    {
     "name": "stdout",
     "output_type": "stream",
     "text": [
      "too high\n"
     ]
    }
   ],
   "source": [
    "if guess < secret:\n",
    "    print(\"too low\")\n",
    "elif guess > secret:\n",
    "    print(\"too high\")\n",
    "elif guess == secret:\n",
    "    print(\"just right\") "
   ]
  },
  {
   "cell_type": "code",
   "execution_count": 10,
   "id": "d04eac7b-7201-49a7-9687-77c5ed9ff0f5",
   "metadata": {},
   "outputs": [],
   "source": [
    "small= True"
   ]
  },
  {
   "cell_type": "code",
   "execution_count": 12,
   "id": "399d5d8f-2582-487b-9896-77d04c4f6992",
   "metadata": {},
   "outputs": [],
   "source": [
    "green = False"
   ]
  },
  {
   "cell_type": "code",
   "execution_count": 14,
   "id": "86ffb380-f1f6-4fa8-bbfa-b8873f035a8c",
   "metadata": {},
   "outputs": [
    {
     "name": "stdout",
     "output_type": "stream",
     "text": [
      "cherry\n"
     ]
    }
   ],
   "source": [
    "if small:\n",
    "    if green:\n",
    "        print(\"pea\")\n",
    "    else:\n",
    "        print(\"cherry\")\n",
    "else:\n",
    "    if green:\n",
    "        print(\"watermelon\")\n",
    "    else: \n",
    "        print(\"pumpkin\")"
   ]
  },
  {
   "cell_type": "markdown",
   "id": "5169891f-a63d-4e9e-8b77-9ea116c812af",
   "metadata": {},
   "source": [
    "The code below is for 6.1 through 6.3"
   ]
  },
  {
   "cell_type": "code",
   "execution_count": 3,
   "id": "3ef665ac-b42e-4548-b6c7-a9d98651f993",
   "metadata": {},
   "outputs": [
    {
     "name": "stdout",
     "output_type": "stream",
     "text": [
      "3\n",
      "2\n",
      "1\n",
      "0\n"
     ]
    }
   ],
   "source": [
    "for numbers in range(3,-1,-1):\n",
    "    print(numbers)\n",
    "    "
   ]
  },
  {
   "cell_type": "code",
   "execution_count": 1,
   "id": "ff62a56f-fcc5-495a-8a8c-4fe2a1ff5524",
   "metadata": {},
   "outputs": [
    {
     "name": "stdout",
     "output_type": "stream",
     "text": [
      "Too Low\n",
      "Too Low\n",
      "Too Low\n",
      "Too Low\n",
      "Too Low\n",
      "Too Low\n",
      "Found it\n"
     ]
    }
   ],
   "source": [
    "guess_me=7\n",
    "number=1\n",
    "\n",
    "while True:\n",
    "    if number < guess_me:\n",
    "        print(\"Too Low\")\n",
    "    elif number == guess_me:\n",
    "        print(\"Found it\")\n",
    "        break\n",
    "    else:\n",
    "        print(\"Oops\")\n",
    "        break\n",
    "    number+= 1"
   ]
  },
  {
   "cell_type": "code",
   "execution_count": 3,
   "id": "9e472ab1-2297-48fd-a5eb-3f903b6168df",
   "metadata": {},
   "outputs": [
    {
     "name": "stdout",
     "output_type": "stream",
     "text": [
      "Too Low\n",
      "Too Low\n",
      "Too Low\n",
      "Too Low\n",
      "Too Low\n",
      "Found it\n"
     ]
    }
   ],
   "source": [
    "guess_me = 5\n",
    "\n",
    "for number in range(10):\n",
    "    if number < guess_me:\n",
    "        print(\"Too Low\")\n",
    "    elif number == guess_me:\n",
    "        print(\"Found it\")\n",
    "        break\n",
    "    else:\n",
    "        print(\"Oops\")\n",
    "        break"
   ]
  },
  {
   "cell_type": "code",
   "execution_count": null,
   "id": "4ab34c84-a2ad-4637-9378-42f06eadc1a3",
   "metadata": {},
   "outputs": [],
   "source": []
  }
 ],
 "metadata": {
  "kernelspec": {
   "display_name": "Python 3 (ipykernel)",
   "language": "python",
   "name": "python3"
  },
  "language_info": {
   "codemirror_mode": {
    "name": "ipython",
    "version": 3
   },
   "file_extension": ".py",
   "mimetype": "text/x-python",
   "name": "python",
   "nbconvert_exporter": "python",
   "pygments_lexer": "ipython3",
   "version": "3.11.7"
  }
 },
 "nbformat": 4,
 "nbformat_minor": 5
}
