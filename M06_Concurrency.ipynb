{
 "cells": [
  {
   "cell_type": "markdown",
   "id": "04489772-0d5f-467f-a97c-2e8df1ddc923",
   "metadata": {},
   "source": [
    "Below is 13.1-13.3"
   ]
  },
  {
   "cell_type": "code",
   "execution_count": null,
   "id": "6af4863a-1714-499d-87f0-f1ebfc991047",
   "metadata": {},
   "outputs": [],
   "source": [
    "from datetime import datetime\n",
    "\n",
    "today = datetime.now()\n",
    "today_str = today.strftime('%Y-%m-%d')\n",
    "\n",
    "with open('today.txt', 'w') as file:\n",
    "    file.write(today_str)\n",
    "\n",
    "with open('today.txt', 'r') as file:\n",
    "    today_string = file.read()\n",
    "\n",
    "print(f\"Content of today.txt: {today_string}\")\n",
    "\n",
    "parsed_date = datetime.strptime(today_string, '%Y-%m-%d')\n",
    "\n",
    "print(f\"Parsed date: {parsed_date}\")\n"
   ]
  },
  {
   "cell_type": "markdown",
   "id": "7ac29ac0-6870-4ee6-813d-f39b4ea4fde6",
   "metadata": {},
   "source": [
    "Below is 15.1"
   ]
  },
  {
   "cell_type": "code",
   "execution_count": null,
   "id": "a571f8bb-5c26-431d-8685-c85fc6496f1b",
   "metadata": {},
   "outputs": [],
   "source": [
    "import multiprocessing\n",
    "import time\n",
    "import random\n",
    "from datetime import datetime\n",
    "\n",
    "def print_current_time():\n",
    "    wait_time = random.uniform(0, 1)  \n",
    "    time.sleep(wait_time)  \n",
    "    print(f\"Current time: {datetime.now().strftime('%H:%M:%S')} after waiting {wait_time:.2f} seconds\")\n",
    "\n",
    "if __name__ == \"__main__\":\n",
    "    processes = []\n",
    "    for _ in range(3):\n",
    "        process = multiprocessing.Process(target=print_current_time)\n",
    "        processes.append(process)\n",
    "        process.start()\n",
    "\n",
    "    \n",
    "    for process in processes:\n",
    "        process.join()\n"
   ]
  }
 ],
 "metadata": {
  "kernelspec": {
   "display_name": "Python 3 (ipykernel)",
   "language": "python",
   "name": "python3"
  },
  "language_info": {
   "codemirror_mode": {
    "name": "ipython",
    "version": 3
   },
   "file_extension": ".py",
   "mimetype": "text/x-python",
   "name": "python",
   "nbconvert_exporter": "python",
   "pygments_lexer": "ipython3",
   "version": "3.11.7"
  }
 },
 "nbformat": 4,
 "nbformat_minor": 5
}
